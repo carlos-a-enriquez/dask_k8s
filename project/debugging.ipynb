{
 "cells": [
  {
   "cell_type": "code",
   "execution_count": 1,
   "id": "2840a9fc-6170-406c-b277-57332c97a7dc",
   "metadata": {},
   "outputs": [],
   "source": [
    "import dask"
   ]
  },
  {
   "cell_type": "code",
   "execution_count": 2,
   "id": "8449ff60-5eb7-422a-b62f-d7dcfb27adb7",
   "metadata": {},
   "outputs": [],
   "source": [
    "import dask.distributed"
   ]
  },
  {
   "cell_type": "code",
   "execution_count": 8,
   "id": "1bc9abac-a98e-425c-89bc-9e61dd2cf4fc",
   "metadata": {},
   "outputs": [
    {
     "ename": "TypeError",
     "evalue": "get() missing 1 required positional argument: 'key'",
     "output_type": "error",
     "traceback": [
      "\u001b[0;31m---------------------------------------------------------------------------\u001b[0m",
      "\u001b[0;31mTypeError\u001b[0m                                 Traceback (most recent call last)",
      "Cell \u001b[0;32mIn[8], line 1\u001b[0m\n\u001b[0;32m----> 1\u001b[0m \u001b[43mdask\u001b[49m\u001b[38;5;241;43m.\u001b[39;49m\u001b[43mconfig\u001b[49m\u001b[38;5;241;43m.\u001b[39;49m\u001b[43mget\u001b[49m\u001b[43m(\u001b[49m\u001b[43m)\u001b[49m\n",
      "\u001b[0;31mTypeError\u001b[0m: get() missing 1 required positional argument: 'key'"
     ]
    }
   ],
   "source": [
    "dask.config.get()"
   ]
  },
  {
   "cell_type": "code",
   "execution_count": 13,
   "id": "b82f585e-f873-48c5-b6e1-bd5a6cb11cff",
   "metadata": {},
   "outputs": [
    {
     "data": {
      "text/plain": [
       "{'version': '2023.1.0',\n",
       " 'scheduler_address': 'myrelease-dask-scheduler:8786',\n",
       " 'temporary-directory': None,\n",
       " 'visualization': {'engine': None},\n",
       " 'tokenize': {'ensure-deterministic': False},\n",
       " 'dataframe': {'backend': 'pandas',\n",
       "  'shuffle-compression': None,\n",
       "  'parquet': {'metadata-task-size-local': 512,\n",
       "   'metadata-task-size-remote': 16},\n",
       "  'dtype_backend': 'pandas'},\n",
       " 'array': {'backend': 'numpy',\n",
       "  'svg': {'size': 120},\n",
       "  'slicing': {'split-large-chunks': None}},\n",
       " 'optimization': {'annotations': {'fuse': True},\n",
       "  'fuse': {'active': None,\n",
       "   'ave-width': 1,\n",
       "   'max-width': None,\n",
       "   'max-height': inf,\n",
       "   'max-depth-new-edges': None,\n",
       "   'subgraphs': None,\n",
       "   'rename-keys': True}},\n",
       " 'distributed': {'version': 2,\n",
       "  'scheduler': {'allowed-failures': 3,\n",
       "   'bandwidth': 100000000,\n",
       "   'blocked-handlers': [],\n",
       "   'contact-address': None,\n",
       "   'default-data-size': '1kiB',\n",
       "   'events-cleanup-delay': '1h',\n",
       "   'idle-timeout': None,\n",
       "   'transition-log-length': 100000,\n",
       "   'events-log-length': 100000,\n",
       "   'work-stealing': True,\n",
       "   'work-stealing-interval': '100ms',\n",
       "   'worker-saturation': 1.1,\n",
       "   'worker-ttl': '5 minutes',\n",
       "   'pickle': True,\n",
       "   'preload': [],\n",
       "   'preload-argv': [],\n",
       "   'unknown-task-duration': '500ms',\n",
       "   'default-task-durations': {'rechunk-split': '1us', 'split-shuffle': '1us'},\n",
       "   'validate': False,\n",
       "   'dashboard': {'status': {'task-stream-length': 1000},\n",
       "    'tasks': {'task-stream-length': 100000},\n",
       "    'tls': {'ca-file': None, 'key': None, 'cert': None},\n",
       "    'bokeh-application': {'allow_websocket_origin': ['*'],\n",
       "     'keep_alive_milliseconds': 500,\n",
       "     'check_unused_sessions_milliseconds': 500}},\n",
       "   'locks': {'lease-validation-interval': '10s', 'lease-timeout': '30s'},\n",
       "   'http': {'routes': ['distributed.http.scheduler.prometheus',\n",
       "     'distributed.http.scheduler.info',\n",
       "     'distributed.http.scheduler.json',\n",
       "     'distributed.http.health',\n",
       "     'distributed.http.proxy',\n",
       "     'distributed.http.statics']},\n",
       "   'allowed-imports': ['dask', 'distributed'],\n",
       "   'active-memory-manager': {'start': True,\n",
       "    'interval': '2s',\n",
       "    'measure': 'optimistic',\n",
       "    'policies': [{'class': 'distributed.active_memory_manager.ReduceReplicas'}]}},\n",
       "  'worker': 'debug',\n",
       "  'nanny': {'preload': [],\n",
       "   'preload-argv': [],\n",
       "   'environ': {},\n",
       "   'pre-spawn-environ': {'MALLOC_TRIM_THRESHOLD_': 65536,\n",
       "    'OMP_NUM_THREADS': 1,\n",
       "    'MKL_NUM_THREADS': 1,\n",
       "    'OPENBLAS_NUM_THREADS': 1}},\n",
       "  'client': {'heartbeat': '5s',\n",
       "   'scheduler-info-interval': '2s',\n",
       "   'security-loader': None,\n",
       "   'preload': [],\n",
       "   'preload-argv': []},\n",
       "  'deploy': {'lost-worker-timeout': '15s', 'cluster-repr-interval': '500ms'},\n",
       "  'adaptive': {'interval': '1s',\n",
       "   'target-duration': '5s',\n",
       "   'minimum': 0,\n",
       "   'maximum': inf,\n",
       "   'wait-count': 3},\n",
       "  'comm': {'retry': {'count': 0, 'delay': {'min': '1s', 'max': '20s'}},\n",
       "   'compression': 'auto',\n",
       "   'shard': '64MiB',\n",
       "   'offload': '10MiB',\n",
       "   'default-scheme': 'tcp',\n",
       "   'socket-backlog': 2048,\n",
       "   'recent-messages-log-length': 0,\n",
       "   'ucx': {'cuda-copy': None,\n",
       "    'tcp': None,\n",
       "    'nvlink': None,\n",
       "    'infiniband': None,\n",
       "    'rdmacm': None,\n",
       "    'create-cuda-context': None,\n",
       "    'environment': {}},\n",
       "   'zstd': {'level': 3, 'threads': 0},\n",
       "   'timeouts': {'connect': '30s', 'tcp': '30s'},\n",
       "   'require-encryption': None,\n",
       "   'tls': {'ciphers': None,\n",
       "    'min-version': 1.2,\n",
       "    'max-version': None,\n",
       "    'ca-file': None,\n",
       "    'scheduler': {'cert': None, 'key': None},\n",
       "    'worker': {'key': None, 'cert': None},\n",
       "    'client': {'key': None, 'cert': None}},\n",
       "   'tcp': {'backend': 'tornado'},\n",
       "   'websockets': {'shard': '8MiB'}},\n",
       "  'diagnostics': {'nvml': True,\n",
       "   'computations': {'max-history': 100,\n",
       "    'ignore-modules': ['distributed',\n",
       "     'dask',\n",
       "     'xarray',\n",
       "     'cudf',\n",
       "     'cuml',\n",
       "     'prefect',\n",
       "     'xgboost']},\n",
       "   'erred-tasks': {'max-history': 100}},\n",
       "  'dashboard': {'link': '{scheme}://{host}:{port}/status',\n",
       "   'export-tool': False,\n",
       "   'graph-max-items': 5000,\n",
       "   'prometheus': {'namespace': 'dask'}},\n",
       "  'admin': {'tick': {'interval': '20ms', 'limit': '3s', 'cycle': '1s'},\n",
       "   'max-error-length': 10000,\n",
       "   'log-length': 10000,\n",
       "   'log-format': '%(asctime)s - %(name)s - %(levelname)s - %(message)s',\n",
       "   'pdb-on-err': False,\n",
       "   'system-monitor': {'interval': '500ms', 'disk': True, 'host-cpu': False},\n",
       "   'event-loop': 'tornado'},\n",
       "  'rmm': {'pool-size': None}}}"
      ]
     },
     "execution_count": 13,
     "metadata": {},
     "output_type": "execute_result"
    }
   ],
   "source": [
    "dask.config.config"
   ]
  },
  {
   "cell_type": "code",
   "execution_count": 10,
   "id": "8b97abb7-7de1-46c4-8add-e6fb9e562243",
   "metadata": {},
   "outputs": [
    {
     "data": {
      "text/plain": [
       "<dask.config.set at 0x7f7534bca1c0>"
      ]
     },
     "execution_count": 10,
     "metadata": {},
     "output_type": "execute_result"
    }
   ],
   "source": [
    "dask.config.set({'distributed.worker': 'debug'})"
   ]
  },
  {
   "cell_type": "code",
   "execution_count": 15,
   "id": "dfa2be08-ff55-4cb0-b8a6-6690f386f48d",
   "metadata": {},
   "outputs": [
    {
     "ename": "SyntaxError",
     "evalue": "unexpected EOF while parsing (3114992937.py, line 4)",
     "output_type": "error",
     "traceback": [
      "\u001b[0;36m  Cell \u001b[0;32mIn[15], line 4\u001b[0;36m\u001b[0m\n\u001b[0;31m    ## some dask computation\u001b[0m\n\u001b[0m                            ^\u001b[0m\n\u001b[0;31mSyntaxError\u001b[0m\u001b[0;31m:\u001b[0m unexpected EOF while parsing\n"
     ]
    }
   ],
   "source": [
    "from dask.distributed import performance_report\n",
    "\n",
    "with performance_report(filename=\"dask-report.html\"):\n",
    "    ## some dask computation"
   ]
  },
  {
   "cell_type": "code",
   "execution_count": 16,
   "id": "129b0596-5dc0-45be-822d-9b4c98cea758",
   "metadata": {},
   "outputs": [
    {
     "data": {
      "text/plain": [
       "'myrelease-dask-scheduler:8786'"
      ]
     },
     "execution_count": 16,
     "metadata": {},
     "output_type": "execute_result"
    }
   ],
   "source": [
    "dask.config.get('scheduler_address')"
   ]
  }
 ],
 "metadata": {
  "kernelspec": {
   "display_name": "Python 3 (ipykernel)",
   "language": "python",
   "name": "python3"
  },
  "language_info": {
   "codemirror_mode": {
    "name": "ipython",
    "version": 3
   },
   "file_extension": ".py",
   "mimetype": "text/x-python",
   "name": "python",
   "nbconvert_exporter": "python",
   "pygments_lexer": "ipython3",
   "version": "3.8.15"
  }
 },
 "nbformat": 4,
 "nbformat_minor": 5
}
